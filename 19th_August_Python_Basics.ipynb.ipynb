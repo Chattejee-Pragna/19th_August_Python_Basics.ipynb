{
 "cells": [
  {
   "cell_type": "markdown",
   "id": "21960db5-485f-4ef5-b3a3-567942acf6f3",
   "metadata": {},
   "source": [
    "TOPIC : PYTHON BASIC VARIABLE"
   ]
  },
  {
   "cell_type": "code",
   "execution_count": 1,
   "id": "74e152ec-e224-4510-a14f-c20bc1934f2d",
   "metadata": {},
   "outputs": [],
   "source": [
    "# Question !.\n",
    "\n",
    "# Let us declare the variable x as 15 and y as 10\n",
    "\n",
    "x = 15\n",
    "y = 10"
   ]
  },
  {
   "cell_type": "code",
   "execution_count": 2,
   "id": "1657ce7f-1389-48f7-9dcd-633e7702d0f7",
   "metadata": {},
   "outputs": [
    {
     "name": "stdout",
     "output_type": "stream",
     "text": [
      "10 15\n"
     ]
    }
   ],
   "source": [
    "# We now shall swap x and y by addition and subtraction without using any third variable.\n",
    "\n",
    "x = x + y\n",
    "y = x - y\n",
    "x = x - y\n",
    "print(x,y)"
   ]
  },
  {
   "cell_type": "markdown",
   "id": "18ec5c96-3174-46b9-8c66-cf18e2aa379e",
   "metadata": {},
   "source": [
    "EXPLANATION OF QUESTION 1:\n",
    "\n",
    "First, we have assaigned two integer values to the two variables (x and y). Next we performed addition as the first operation and stored the answer to one of the pre defined variables( x). Here, we haven't assigned the answer to any third variable. This process is known as swapping. This is process is carried out three times by subtraction, the next two times. Ultimately, the  final answer of consecutive three operations will be stored to x and y itself and not to any other temprary variables. "
   ]
  },
  {
   "cell_type": "code",
   "execution_count": 3,
   "id": "e82bc456-a78e-438f-a348-b8ffc98cbfc9",
   "metadata": {},
   "outputs": [
    {
     "name": "stdin",
     "output_type": "stream",
     "text": [
      "Enter the value of the length:  15\n",
      "Enter the value of width:  12\n"
     ]
    },
    {
     "name": "stdout",
     "output_type": "stream",
     "text": [
      "180\n"
     ]
    }
   ],
   "source": [
    "# Question 2.\n",
    "# To answer this question, we first take the length and breadth or width as the user input and  then calculating the area by the formaula as:\n",
    "\n",
    "Length = int(input('Enter the value of the length: '))\n",
    "width = int(input('Enter the value of width: '))\n",
    "Area = Length * width\n",
    "print(Area)"
   ]
  },
  {
   "cell_type": "markdown",
   "id": "4df67654-ec6a-4817-8ea0-288a12b29842",
   "metadata": {},
   "source": [
    "EXPLANATION OF QUESTION 2\n",
    "\n",
    "We first introduce two variables called \"Length\" and \"width\". And assigned them with the user integer inputs. After that we have used the formula to calculate the area of a rectangle which is length times breadth (or width). The, the formula is stored into another variable called \"Area\". Finally we print the Area to get the final result as the area of the triangle."
   ]
  },
  {
   "cell_type": "code",
   "execution_count": 19,
   "id": "ebfb77b3-a24b-48e3-9ee6-71fa4b45f546",
   "metadata": {},
   "outputs": [
    {
     "name": "stdin",
     "output_type": "stream",
     "text": [
      "Enter a temperature:  32\n"
     ]
    },
    {
     "name": "stdout",
     "output_type": "stream",
     "text": [
      "86.0\n"
     ]
    }
   ],
   "source": [
    "# Question 3.\n",
    "# To convert celcius to fahrenheit, we simply have to multiply to 1.8 and them add to 32 as:\n",
    "\n",
    "c = float(input(\"Enter a temperature: \"))\n",
    "F = (30 * 1.8) + 32\n",
    "print(F)"
   ]
  },
  {
   "cell_type": "markdown",
   "id": "dd0527fb-d769-4d1e-a653-5cf2a9e7275e",
   "metadata": {},
   "source": [
    "EXPLANATION OF QUESTION 3\n",
    "\n",
    "We first took an user input for a temperature and thereby, converted into float and assigned the value to the variable \"c\". Next, We have converted the celsius value to fahrenheit by the formula given above and stored the value into the variable called \"f\". Finally, we took the print of \"f\" to get the conversion of the given input."
   ]
  },
  {
   "cell_type": "markdown",
   "id": "8359872e-13c7-4de5-97fb-485634403c42",
   "metadata": {},
   "source": [
    "TOPIC : STRING BASED QUESTIONS"
   ]
  },
  {
   "cell_type": "code",
   "execution_count": 21,
   "id": "1c4600ed-e2a5-4fc9-b36c-dc2dbc3a60ab",
   "metadata": {},
   "outputs": [
    {
     "name": "stdin",
     "output_type": "stream",
     "text": [
      "Enter a string value:  I love to code\n"
     ]
    },
    {
     "data": {
      "text/plain": [
       "14"
      ]
     },
     "execution_count": 21,
     "metadata": {},
     "output_type": "execute_result"
    }
   ],
   "source": [
    "# Question 1.\n",
    "\n",
    "S1 = input(\"Enter a string value: \")\n",
    "\n",
    "len(S1)"
   ]
  },
  {
   "cell_type": "markdown",
   "id": "fdc82fda-9057-4d4d-9e8d-fd19542abfeb",
   "metadata": {},
   "source": [
    "EXPLANATION OF QUESTION 1\n",
    "\n",
    "We first tok a variable as \"S1\" aaaaand assigned user input  string value. To find the length of the given string, we use the pre-defiend function \"len()\". Len function includes all characters inside the string including \"gaps\". "
   ]
  },
  {
   "cell_type": "code",
   "execution_count": 8,
   "id": "75338e6c-89b8-4127-9d2d-fbbb5b815f2e",
   "metadata": {},
   "outputs": [
    {
     "name": "stdin",
     "output_type": "stream",
     "text": [
      "Enter a sentence:  Coding is cool.\n"
     ]
    },
    {
     "name": "stdout",
     "output_type": "stream",
     "text": [
      "The number of vowels in it:  5\n"
     ]
    }
   ],
   "source": [
    "# Question 2.\n",
    "\n",
    "s = input(\"Enter a sentence: \")\n",
    "s1 = s.lower()\n",
    "S2 = s1.split()\n",
    "v = [\"a\",\"e\",\"i\",\"o\",\"u\"]\n",
    "vowel_count = 0\n",
    "for word in S2:\n",
    "    for i in range(0,len(word)):\n",
    "        if word[i] in v:\n",
    "            vowel_count += 1\n",
    "print(\"The number of vowels in it: \", vowel_count)\n"
   ]
  },
  {
   "cell_type": "markdown",
   "id": "29d7c61c-72f0-45af-a942-b5cb2a2c918b",
   "metadata": {},
   "source": [
    "EXPLANATION OF QUESTION 2\n",
    "\n",
    "At first we took the user input and stored to the variable \"s\", and converted to lowercase and splitted the whole string by \"lower()\" and \"split\" functions. Next, we have stored all the vowels in \"v\" variable. Now, for all the characters(i) in the input, the vowels(if present) will be stored in the variable called \"vowel_count\". This will repeat for the number of times the vowels are present. So for loop is used. Finally, it will print the number of vowels with the help of print function."
   ]
  },
  {
   "cell_type": "code",
   "execution_count": 23,
   "id": "58944ba3-9df8-4518-9a91-ce9f5a4ac7b9",
   "metadata": {},
   "outputs": [
    {
     "data": {
      "text/plain": [
       "22"
      ]
     },
     "execution_count": 23,
     "metadata": {},
     "output_type": "execute_result"
    }
   ],
   "source": [
    "# Question 3.\n",
    "\n",
    "S3 = \"Pwskills teach python.\"\n",
    "len(S3)"
   ]
  },
  {
   "cell_type": "code",
   "execution_count": 25,
   "id": "899ccdf3-322b-45a2-ab41-4709e7c7aeae",
   "metadata": {},
   "outputs": [
    {
     "data": {
      "text/plain": [
       "'.nohtyp hcaet sllikswP'"
      ]
     },
     "execution_count": 25,
     "metadata": {},
     "output_type": "execute_result"
    }
   ],
   "source": [
    "S3[ : :-1]"
   ]
  },
  {
   "cell_type": "markdown",
   "id": "5cf0e783-8f76-46af-b16b-9a7e4e5a8758",
   "metadata": {},
   "source": [
    "EXPLANATION OF QUESTION 3\n",
    "\n",
    "A string is stored as the value and stored into the varavle named \"S3\". We can also take user input in this case. To reverse the string, we need to strat from the right most corner and come to the left one by 1. Alternatively, we can start from the leftmost corner to right as [::] but moving by -1 as given above."
   ]
  },
  {
   "cell_type": "code",
   "execution_count": 13,
   "id": "1c582765-02f1-4c1e-b5f3-5ee7bbab354b",
   "metadata": {},
   "outputs": [
    {
     "name": "stdin",
     "output_type": "stream",
     "text": [
      "Enter a string you want:  malayalam\n"
     ]
    },
    {
     "name": "stdout",
     "output_type": "stream",
     "text": [
      "Yes, this is a palindrome.\n"
     ]
    }
   ],
   "source": [
    "# Question 4.\n",
    "\n",
    "S4 = input(\"Enter a string you want: \")\n",
    "if S4 == S4[::-1]:\n",
    "  print(\"Yes, this is a palindrome.\")\n",
    "else:\n",
    "  print(\"This is not a palindrome.\")"
   ]
  },
  {
   "cell_type": "markdown",
   "id": "c2531dfa-805d-40c3-ba34-171b1020b5a4",
   "metadata": {},
   "source": [
    "EXPLANATION OF QUESTION 4\n",
    "\n",
    "This can be done by checking whther the assigned value S4 starting from left to right is exactly same if started from right to left. This is known as palindrome."
   ]
  },
  {
   "cell_type": "code",
   "execution_count": 17,
   "id": "1a05c392-7f5f-4a58-b4e0-30fb1c1ab972",
   "metadata": {},
   "outputs": [
    {
     "name": "stdout",
     "output_type": "stream",
     "text": [
      "pythoniseasytohandle.\n"
     ]
    }
   ],
   "source": [
    "# Question 5\n",
    "\n",
    "s4 = \"Python is easy to handle.\"\n",
    "s5 = s4.lower()\n",
    "S5 = s5.split()\n",
    "New_S5 = \"\"\n",
    "for letter in S5:\n",
    "    if S5 != \" \":\n",
    "     New_S5 += letter\n",
    "print(New_S5)\n",
    "    \n",
    "    \n",
    "    "
   ]
  },
  {
   "cell_type": "markdown",
   "id": "0ef48abd-106e-4e3f-b525-f56a46a04646",
   "metadata": {},
   "source": [
    "EXPLANATION OF QUESTION 5\n",
    "\n",
    "At first we took the user input and stored to the variable \"s4\", and converted to lowercase and splitted the whole string by \"lower()\" and \"split\" functions. Next, we have created another variable caled\" New_S5\" empty. Now, for all the characters(letter) in the input will be stored in \"New_S5\" if and only if the characters are not \"gaps\".  This will repeat for the number of times the characters are present. So for loop is used. Finally, it will print \"New_S5\" as all the characters without gaps or spaces with the help of print function."
   ]
  }
 ],
 "metadata": {
  "kernelspec": {
   "display_name": "Python 3 (ipykernel)",
   "language": "python",
   "name": "python3"
  },
  "language_info": {
   "codemirror_mode": {
    "name": "ipython",
    "version": 3
   },
   "file_extension": ".py",
   "mimetype": "text/x-python",
   "name": "python",
   "nbconvert_exporter": "python",
   "pygments_lexer": "ipython3",
   "version": "3.10.8"
  }
 },
 "nbformat": 4,
 "nbformat_minor": 5
}
